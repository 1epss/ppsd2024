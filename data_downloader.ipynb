{
 "cells": [
  {
   "cell_type": "code",
   "execution_count": 1,
   "metadata": {},
   "outputs": [],
   "source": [
    "import obspy\n",
    "import numpy as np\n",
    "from obspy import read, read_inventory, UTCDateTime\n",
    "from obspy.clients.fdsn import Client\n",
    "\n",
    "client = Client()"
   ]
  },
  {
   "cell_type": "code",
   "execution_count": 2,
   "metadata": {},
   "outputs": [],
   "source": [
    "def data_downloader(network, station, location, channel, starttime, endtime, number):\n",
    "\n",
    "    for i in range(number):\n",
    "\n",
    "        print(starttime, endtime)\n",
    "        \n",
    "        st = client.get_waveforms(network, station, location, channel, starttime, endtime)\n",
    "        chan = []\n",
    "        \n",
    "        if network == 'XA':\n",
    "            for tr in st:\n",
    "                chan.append(tr.stats.channel)\n",
    "    \n",
    "            if chan.count('MH1') >= 2:\n",
    "                for tr in st.select(component = '1'):\n",
    "                    st.merge(tr, fill_value = 'interpolate')\n",
    "            \n",
    "            if chan.count('MH2') >= 2:\n",
    "                for tr in st.select(component = '2'):\n",
    "                    st.merge(tr, fill_value = 'interpolate')\n",
    "            \n",
    "            if chan.count('MHZ') >= 2:\n",
    "                for tr in st.select(component = 'Z'):\n",
    "                    st.merge(tr, fill_value = 'interpolate')\n",
    "            print(st)\n",
    "\n",
    "            timeformat = starttime.strftime('%Y%m%d%H%M')\n",
    "            st.write(network + \".\" + station + \".\" + str(location) + \".MH.\" + timeformat + \".mseed\", format = \"MSEED\")\n",
    "            \n",
    "        if network == 'XB':\n",
    "            for tr in st:\n",
    "                chan.append(tr.stats.channel)\n",
    "    \n",
    "            if chan.count('BHU') >= 2:\n",
    "                for tr in st.select(component = 'U'):\n",
    "                    st.merge(tr, fill_value = 'interpolate')\n",
    "            \n",
    "            if chan.count('BHV') >= 2:\n",
    "                for tr in st.select(component = 'V'):\n",
    "                    st.merge(tr, fill_value = 'interpolate')\n",
    "            \n",
    "            if chan.count('BHW') >= 2:\n",
    "                for tr in st.select(component = 'W'):\n",
    "                    st.merge(tr, fill_value = 'interpolate')\n",
    "        \n",
    "            print(st)\n",
    "\n",
    "            timeformat = starttime.strftime('%Y%m%d%H%M')\n",
    "            st.write(network + \".\" + station + \".\" + str(location) + \".BH.\" + timeformat + \".mseed\", format = \"MSEED\")\n",
    "\n",
    "        starttime = starttime + (60 * 60 * 24)\n",
    "        endtime = endtime + (60 * 60 * 24)"
   ]
  },
  {
   "cell_type": "code",
   "execution_count": 3,
   "metadata": {},
   "outputs": [
    {
     "name": "stdout",
     "output_type": "stream",
     "text": [
      "2020-12-27T00:00:00.000000Z 2020-12-28T00:00:00.000000Z\n",
      "3 Trace(s) in Stream:\n",
      "XB.ELYSE.02.BHU | 2020-12-27T00:00:00.031000Z - 2020-12-27T23:59:59.981000Z | 20.0 Hz, 1728000 samples\n",
      "XB.ELYSE.02.BHV | 2020-12-27T00:00:00.031000Z - 2020-12-27T23:59:59.981000Z | 20.0 Hz, 1728000 samples\n",
      "XB.ELYSE.02.BHW | 2020-12-27T00:00:00.031000Z - 2020-12-27T23:59:59.981000Z | 20.0 Hz, 1728000 samples\n",
      "2020-12-28T00:00:00.000000Z 2020-12-29T00:00:00.000000Z\n",
      "3 Trace(s) in Stream:\n",
      "XB.ELYSE.02.BHU | 2020-12-28T00:00:00.027000Z - 2020-12-28T23:59:59.977000Z | 20.0 Hz, 1728000 samples\n",
      "XB.ELYSE.02.BHV | 2020-12-28T00:00:00.027000Z - 2020-12-28T23:59:59.977000Z | 20.0 Hz, 1728000 samples\n",
      "XB.ELYSE.02.BHW | 2020-12-28T00:00:00.027000Z - 2020-12-28T23:59:59.977000Z | 20.0 Hz, 1728000 samples\n",
      "2020-12-29T00:00:00.000000Z 2020-12-30T00:00:00.000000Z\n",
      "3 Trace(s) in Stream:\n",
      "XB.ELYSE.02.BHU | 2020-12-29T00:00:00.039000Z - 2020-12-29T23:59:59.989000Z | 20.0 Hz, 1728000 samples\n",
      "XB.ELYSE.02.BHV | 2020-12-29T00:00:00.039000Z - 2020-12-29T23:59:59.989000Z | 20.0 Hz, 1728000 samples\n",
      "XB.ELYSE.02.BHW | 2020-12-29T00:00:00.039000Z - 2020-12-29T23:59:59.989000Z | 20.0 Hz, 1728000 samples\n",
      "2020-12-30T00:00:00.000000Z 2020-12-31T00:00:00.000000Z\n",
      "3 Trace(s) in Stream:\n",
      "XB.ELYSE.02.BHU | 2020-12-30T00:00:00.040000Z - 2020-12-30T23:59:59.990000Z | 20.0 Hz, 1728000 samples\n",
      "XB.ELYSE.02.BHV | 2020-12-30T00:00:00.040000Z - 2020-12-30T23:59:59.990000Z | 20.0 Hz, 1728000 samples\n",
      "XB.ELYSE.02.BHW | 2020-12-30T00:00:00.040000Z - 2020-12-30T23:59:59.990000Z | 20.0 Hz, 1728000 samples\n",
      "2020-12-31T00:00:00.000000Z 2021-01-01T00:00:00.000000Z\n",
      "3 Trace(s) in Stream:\n",
      "XB.ELYSE.02.BHU | 2020-12-31T00:00:00.016000Z - 2021-01-01T00:00:00.016000Z | 20.0 Hz, 1728001 samples\n",
      "XB.ELYSE.02.BHV | 2020-12-31T00:00:00.016000Z - 2021-01-01T00:00:00.016000Z | 20.0 Hz, 1728001 samples\n",
      "XB.ELYSE.02.BHW | 2020-12-31T00:00:00.016000Z - 2021-01-01T00:00:00.016000Z | 20.0 Hz, 1728001 samples\n"
     ]
    }
   ],
   "source": [
    "data_downloader('XB', 'ELYSE', '02', 'BH?', UTCDateTime('2020-01-01T00:00:00.000'), UTCDateTime('2020-01-02T00:00:00.000'), 365)"
   ]
  }
 ],
 "metadata": {
  "kernelspec": {
   "display_name": "base",
   "language": "python",
   "name": "python3"
  },
  "language_info": {
   "codemirror_mode": {
    "name": "ipython",
    "version": 3
   },
   "file_extension": ".py",
   "mimetype": "text/x-python",
   "name": "python",
   "nbconvert_exporter": "python",
   "pygments_lexer": "ipython3",
   "version": "3.11.7"
  }
 },
 "nbformat": 4,
 "nbformat_minor": 2
}
